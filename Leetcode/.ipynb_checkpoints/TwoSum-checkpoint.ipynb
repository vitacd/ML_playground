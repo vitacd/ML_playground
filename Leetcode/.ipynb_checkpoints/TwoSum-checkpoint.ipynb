{
 "cells": [
  {
   "cell_type": "markdown",
   "metadata": {},
   "source": [
    "### Two Sum problem\n",
    "- Problem: Given an array of integers, return indices of the two numbers such that they add up to a specific target. You may assume that each input would have exactly one solution, and you may not use the same element twice."
   ]
  },
  {
   "cell_type": "code",
   "execution_count": 1,
   "metadata": {},
   "outputs": [],
   "source": [
    "A = [-2,1,2,6,7,11]\n",
    "target = 13"
   ]
  },
  {
   "cell_type": "code",
   "execution_count": 2,
   "metadata": {},
   "outputs": [
    {
     "name": "stdout",
     "output_type": "stream",
     "text": [
      "[2, 5, 3, 4]\n",
      "--- 0.0 seconds ---\n",
      "[2, 5, 3, 4]\n",
      "--- 0.0 seconds ---\n",
      "[2, 5, 3, 4]\n",
      "--- 0.0 seconds ---\n"
     ]
    }
   ],
   "source": [
    "# Crude Way\n",
    "# time complexit: O(n^2)\n",
    "# space         : O(1)\n",
    "def two_sum_crude(A,target):\n",
    "    indlist = []\n",
    "    for i in range(len(A)-1):\n",
    "        for j in range(i+1,len(A)):\n",
    "            if A[i]+A[j]==target:\n",
    "                indlist.append(i)\n",
    "                indlist.append(j)\n",
    "    return indlist\n",
    "\n",
    "import time\n",
    "start_time = time.time()\n",
    "\n",
    "a = two_sum_crude(A,target)           \n",
    "print(a)\n",
    "print(\"--- %s seconds ---\" % (time.time() - start_time))"
   ]
  },
  {
   "cell_type": "code",
   "execution_count": null,
   "metadata": {},
   "outputs": [],
   "source": [
    "# hashtable\n",
    "# time complexit: O(n)\n",
    "# space         : O(n)\n",
    "def two_sum_hashtable(A,target):\n",
    "    ht = dict()\n",
    "    indlist = []\n",
    "    for i in range(len(A)):\n",
    "        if A[i] in ht:\n",
    "            print(ht[A[i]],A[i])\n",
    "            indlist.append(i)\n",
    "        else:\n",
    "            ht[target - A[i]] = A[i]\n",
    "        \n",
    "    return indlist\n",
    "start_time = time.time()\n",
    "\n",
    "a = two_sum_hashtable(A,target)           \n",
    "print(a)\n",
    "print(\"--- %s seconds ---\" % (time.time() - start_time))"
   ]
  },
  {
   "cell_type": "code",
   "execution_count": 40,
   "metadata": {},
   "outputs": [
    {
     "name": "stdout",
     "output_type": "stream",
     "text": [
      "0 5\n",
      "1 5\n",
      "2 5\n",
      "2 11\n",
      "True\n",
      "--- 0.0 seconds ---\n",
      "0 5\n",
      "1 5\n",
      "2 5\n",
      "2 11\n",
      "True\n",
      "--- 0.0 seconds ---\n",
      "0 5\n",
      "1 5\n",
      "2 5\n",
      "2 11\n",
      "True\n",
      "--- 0.0 seconds ---\n"
     ]
    }
   ],
   "source": [
    "# search from both ends, has problem with the right end movement\n",
    "def two_sum(A,target):\n",
    "    i=0\n",
    "    j=len(A)-1\n",
    "#    indlist = []\n",
    "    while i<=j:\n",
    "        print(i,j)\n",
    "        if A[i]+A[j]==target:  \n",
    "            print (A[i],A[j])\n",
    "#            indlist.append([i,j])\n",
    "            return True\n",
    "        elif A[i]+A[j]<target:\n",
    "            i+=1\n",
    "        else:# A[i]+A[j]>target:\n",
    "            j-=1 \n",
    "        \n",
    "    return False\n",
    "start_time = time.time()\n",
    "\n",
    "a = two_sum(A,target)           \n",
    "print(a)\n",
    "print(\"--- %s seconds ---\" % (time.time() - start_time))"
   ]
  },
  {
   "cell_type": "code",
   "execution_count": 6,
   "metadata": {},
   "outputs": [
    {
     "name": "stdout",
     "output_type": "stream",
     "text": [
      "[[3, 4], [2, 5]]\n",
      "--- 0.007991790771484375 seconds ---\n",
      "[[3, 4], [2, 5]]\n",
      "--- 0.007991790771484375 seconds ---\n",
      "[[3, 4], [2, 5]]\n",
      "--- 0.007991790771484375 seconds ---\n"
     ]
    }
   ],
   "source": [
    "# another hashtable approach\n",
    "def t_sum(A, target):\n",
    "    values = dict()\n",
    "    indlist = []\n",
    "    for i, elem in enumerate(A):\n",
    "        values[elem] = i \n",
    "        comp = target-elem\n",
    "        if comp in values:\n",
    "#            print ([values[comp],i])\n",
    "            indlist.append([values[comp],i])        \n",
    "    return indlist\n",
    "start_time = time.time()\n",
    "\n",
    "a = t_sum(A,target)           \n",
    "print(a)\n",
    "print(\"--- %s seconds ---\" % (time.time() - start_time))"
   ]
  },
  {
   "cell_type": "code",
   "execution_count": 7,
   "metadata": {},
   "outputs": [
    {
     "name": "stdout",
     "output_type": "stream",
     "text": [
      "[[3, 4], [2, 5]]\n",
      "[[3, 4], [2, 5]]\n",
      "[[3, 4], [2, 5]]\n"
     ]
    }
   ],
   "source": [
    "a = t_sum(A,target)           \n",
    "print(a)"
   ]
  },
  {
   "cell_type": "code",
   "execution_count": null,
   "metadata": {},
   "outputs": [],
   "source": []
  }
 ],
 "metadata": {
  "kernelspec": {
   "display_name": "Python 3",
   "language": "python",
   "name": "python3"
  },
  "language_info": {
   "codemirror_mode": {
    "name": "ipython",
    "version": 3
   },
   "file_extension": ".py",
   "mimetype": "text/x-python",
   "name": "python",
   "nbconvert_exporter": "python",
   "pygments_lexer": "ipython3",
   "version": "3.7.6"
  }
 },
 "nbformat": 4,
 "nbformat_minor": 4
}
